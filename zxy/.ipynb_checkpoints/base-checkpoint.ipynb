{
 "cells": [
  {
   "cell_type": "code",
   "execution_count": 1,
   "id": "61210373-250c-4956-a794-670f67d79dc9",
   "metadata": {},
   "outputs": [],
   "source": [
    "import tensorflow as tf\n",
    "import math\n",
    "import numpy as np\n",
    "from tensorflow.keras import datasets, layers, models\n",
    "import matplotlib.pyplot as plt"
   ]
  },
  {
   "cell_type": "code",
   "execution_count": 2,
   "id": "1646ed8f-6495-49c8-91c9-4a5bce6bc633",
   "metadata": {},
   "outputs": [],
   "source": [
    "##input=state matrix and action pair\n",
    "\n",
    "num = 100 ##number of input\n",
    "snum = 20\n",
    "snum2 = 50"
   ]
  },
  {
   "cell_type": "code",
   "execution_count": 3,
   "id": "37be3be6-a2f7-4d64-9597-d2d49ec0053f",
   "metadata": {},
   "outputs": [],
   "source": [
    "#first train state\n",
    "state1 = np.mat([[snum,snum,snum],[snum,snum,snum],[snum,snum,snum]])\n",
    "random = np.random.random((3,3))\n",
    "s1 = list()\n",
    "for i in range (0,num):\n",
    "    s1.append(state1+random)\n",
    "##s1 = np.asarray(s1)\n",
    "##print(s1)\n",
    "#second train state\n",
    "state2 = np.mat([[snum2,snum2,snum2],[snum2,snum2,snum2],[snum2,snum2,snum2]])\n",
    "random = np.random.random((3,3))\n",
    "\n",
    "for i in range (0,num):\n",
    "    s1.append(state2+random) #add second train state to s1\n",
    "s1 = np.asarray(s1)\n",
    "##print(s1)"
   ]
  },
  {
   "cell_type": "code",
   "execution_count": 15,
   "id": "21c3bbfe-f154-4c78-b8b8-91f232e6eda8",
   "metadata": {},
   "outputs": [],
   "source": [
    "#test state\n",
    "s_test = list()\n",
    "for i in range (0,num):\n",
    "    #change between state1 and state2 to test\n",
    "    s_test.append(state1+np.random.random((3,3)))\n",
    "    \n",
    "s_test = np.asarray(s_test)"
   ]
  },
  {
   "cell_type": "code",
   "execution_count": 6,
   "id": "62a2a843-5729-4e7e-8448-16459ed21f20",
   "metadata": {},
   "outputs": [
    {
     "data": {
      "text/plain": [
       "numpy.ndarray"
      ]
     },
     "execution_count": 6,
     "metadata": {},
     "output_type": "execute_result"
    }
   ],
   "source": [
    "type(s1)"
   ]
  },
  {
   "cell_type": "code",
   "execution_count": 7,
   "id": "fe1a1aa5-ce53-4232-aa82-9f1e37c0279a",
   "metadata": {},
   "outputs": [],
   "source": [
    "##action is int\n",
    "##first train action\n",
    "action = 10\n",
    "a1 = list()\n",
    "for i in range (0,num):\n",
    "    a1.append(action + np.random.random())\n",
    "#a1 = np.asarray(a)\n",
    "##print(a1)\n",
    "##second train action\n",
    "action2 = 25\n",
    "for i in range (0,num):\n",
    "    a1.append(action2 + np.random.random())\n",
    "a1 = np.asarray(a1)"
   ]
  },
  {
   "cell_type": "code",
   "execution_count": 9,
   "id": "08f84c31-0996-48b9-896e-b097f9809e83",
   "metadata": {},
   "outputs": [],
   "source": [
    "#test action\n",
    "a_test = list()\n",
    "for i in range (0,num):\n",
    "    a_test.append(action + 0.5)\n",
    "a_test = np.asarray(a_test)\n",
    "##print(a_test)"
   ]
  },
  {
   "cell_type": "code",
   "execution_count": 10,
   "id": "9cfc2e68-e7fc-4bc3-afba-3ff1c54fb641",
   "metadata": {},
   "outputs": [],
   "source": [
    "##NOW s and a are the state-action pair"
   ]
  },
  {
   "cell_type": "code",
   "execution_count": 11,
   "id": "e63cf0a7-41b0-483f-9d1a-33d4d565021f",
   "metadata": {},
   "outputs": [],
   "source": [
    "##Create Model\n",
    "model = tf.keras.models.Sequential([\n",
    "  tf.keras.layers.Flatten(input_shape=(3, 3)),\n",
    "  layers.Dense(64, activation='relu'),\n",
    "  layers.Dense(1)\n",
    "])   "
   ]
  },
  {
   "cell_type": "code",
   "execution_count": 12,
   "id": "c8708c04-4ce9-4b59-959f-83bfde3c899d",
   "metadata": {},
   "outputs": [
    {
     "name": "stdout",
     "output_type": "stream",
     "text": [
      "Model: \"sequential\"\n",
      "_________________________________________________________________\n",
      " Layer (type)                Output Shape              Param #   \n",
      "=================================================================\n",
      " flatten (Flatten)           (None, 9)                 0         \n",
      "                                                                 \n",
      " dense (Dense)               (None, 64)                640       \n",
      "                                                                 \n",
      " dense_1 (Dense)             (None, 1)                 65        \n",
      "                                                                 \n",
      "=================================================================\n",
      "Total params: 705\n",
      "Trainable params: 705\n",
      "Non-trainable params: 0\n",
      "_________________________________________________________________\n"
     ]
    }
   ],
   "source": [
    "model.summary()"
   ]
  },
  {
   "cell_type": "code",
   "execution_count": 13,
   "id": "63a9dc00-61c5-4410-911c-4979447a1019",
   "metadata": {
    "tags": []
   },
   "outputs": [
    {
     "name": "stdout",
     "output_type": "stream",
     "text": [
      "Epoch 1/10\n",
      "7/7 [==============================] - 1s 38ms/step - loss: 169.8396 - accuracy: 0.0000e+00 - val_loss: 113.8348 - val_accuracy: 0.0000e+00\n",
      "Epoch 2/10\n",
      "7/7 [==============================] - 0s 4ms/step - loss: 6.9109 - accuracy: 0.0000e+00 - val_loss: 465.0620 - val_accuracy: 0.0000e+00\n",
      "Epoch 3/10\n",
      "7/7 [==============================] - 0s 4ms/step - loss: 25.4330 - accuracy: 0.0000e+00 - val_loss: 405.8887 - val_accuracy: 0.0000e+00\n",
      "Epoch 4/10\n",
      "7/7 [==============================] - 0s 4ms/step - loss: 6.2665 - accuracy: 0.0000e+00 - val_loss: 213.2783 - val_accuracy: 0.0000e+00\n",
      "Epoch 5/10\n",
      "7/7 [==============================] - 0s 4ms/step - loss: 2.4514 - accuracy: 0.0000e+00 - val_loss: 155.3339 - val_accuracy: 0.0000e+00\n",
      "Epoch 6/10\n",
      "7/7 [==============================] - 0s 4ms/step - loss: 3.1000 - accuracy: 0.0000e+00 - val_loss: 205.6639 - val_accuracy: 0.0000e+00\n",
      "Epoch 7/10\n",
      "7/7 [==============================] - 0s 4ms/step - loss: 0.2846 - accuracy: 0.0000e+00 - val_loss: 264.2188 - val_accuracy: 0.0000e+00\n",
      "Epoch 8/10\n",
      "7/7 [==============================] - 0s 5ms/step - loss: 0.7870 - accuracy: 0.0000e+00 - val_loss: 252.2256 - val_accuracy: 0.0000e+00\n",
      "Epoch 9/10\n",
      "7/7 [==============================] - 0s 4ms/step - loss: 0.1644 - accuracy: 0.0000e+00 - val_loss: 219.5605 - val_accuracy: 0.0000e+00\n",
      "Epoch 10/10\n",
      "7/7 [==============================] - 0s 4ms/step - loss: 0.2243 - accuracy: 0.0000e+00 - val_loss: 219.6468 - val_accuracy: 0.0000e+00\n"
     ]
    }
   ],
   "source": [
    "##Train\n",
    "loss_fn = tf.keras.losses.MeanSquaredError()\n",
    "model.compile(optimizer='adam',\n",
    "              loss=loss_fn,\n",
    "              metrics=['accuracy'])\n",
    "history = model.fit(s1, a1, epochs=10,\n",
    "                    validation_data=(s_test, a_test))"
   ]
  },
  {
   "cell_type": "code",
   "execution_count": 16,
   "id": "706fe5b2-5aa6-4b16-b293-8a78ce87dd42",
   "metadata": {},
   "outputs": [
    {
     "name": "stdout",
     "output_type": "stream",
     "text": [
      "1/1 [==============================] - 0s 13ms/step\n"
     ]
    },
    {
     "data": {
      "text/plain": [
       "array([[10.461679 ],\n",
       "       [10.390239 ],\n",
       "       [10.443341 ],\n",
       "       [10.291221 ],\n",
       "       [10.2915125],\n",
       "       [10.298233 ],\n",
       "       [10.292882 ],\n",
       "       [10.193263 ],\n",
       "       [10.378976 ],\n",
       "       [10.202432 ]], dtype=float32)"
      ]
     },
     "execution_count": 16,
     "metadata": {},
     "output_type": "execute_result"
    }
   ],
   "source": [
    "##Test\n",
    "example_batch = s_test[:10]\n",
    "example_result = model.predict(example_batch)\n",
    "example_result"
   ]
  },
  {
   "cell_type": "code",
   "execution_count": 17,
   "id": "b3cf0af6-331b-4331-8499-171587eef627",
   "metadata": {},
   "outputs": [],
   "source": [
    "##Test\n",
    "##plt.plot(history.history['accuracy'], label='accuracy')\n",
    "##plt.plot(history.history['val_accuracy'], label = 'val_accuracy')\n",
    "##plt.xlabel('Epoch')\n",
    "##plt.ylabel('Accuracy')\n",
    "##plt.ylim([0.5, 1])\n",
    "##plt.legend(loc='lower right')\n",
    "##plt.show()\n",
    "#\n",
    "##test_loss, test_acc = model.evaluate(s_test,  a_test, verbose=2)"
   ]
  },
  {
   "cell_type": "code",
   "execution_count": null,
   "id": "0a7f8dfd-6db5-4183-863b-b817d85e9787",
   "metadata": {},
   "outputs": [],
   "source": []
  }
 ],
 "metadata": {
  "kernelspec": {
   "display_name": "Python 3 (ipykernel)",
   "language": "python",
   "name": "python3"
  },
  "language_info": {
   "codemirror_mode": {
    "name": "ipython",
    "version": 3
   },
   "file_extension": ".py",
   "mimetype": "text/x-python",
   "name": "python",
   "nbconvert_exporter": "python",
   "pygments_lexer": "ipython3",
   "version": "3.9.12"
  }
 },
 "nbformat": 4,
 "nbformat_minor": 5
}
